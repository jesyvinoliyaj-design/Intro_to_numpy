{
 "cells": [
  {
   "cell_type": "markdown",
   "id": "d1b0e854",
   "metadata": {},
   "source": [
    "## Install Numpy"
   ]
  },
  {
   "cell_type": "code",
   "execution_count": 1,
   "id": "f5d033ab",
   "metadata": {},
   "outputs": [
    {
     "name": "stdout",
     "output_type": "stream",
     "text": [
      "Requirement already satisfied: numpy in c:\\users\\user\\appdata\\local\\programs\\python\\python313\\lib\\site-packages (2.3.2)\n",
      "Note: you may need to restart the kernel to use updated packages.\n"
     ]
    },
    {
     "name": "stderr",
     "output_type": "stream",
     "text": [
      "\n",
      "[notice] A new release of pip is available: 25.1.1 -> 25.2\n",
      "[notice] To update, run: python.exe -m pip install --upgrade pip\n"
     ]
    }
   ],
   "source": [
    "pip install numpy"
   ]
  },
  {
   "cell_type": "code",
   "execution_count": 3,
   "id": "ad0629de",
   "metadata": {},
   "outputs": [
    {
     "name": "stdout",
     "output_type": "stream",
     "text": [
      "Requirement already satisfied: pip in c:\\users\\user\\appdata\\local\\programs\\python\\python313\\lib\\site-packages (25.1.1)\n",
      "Collecting pip\n",
      "  Using cached pip-25.2-py3-none-any.whl.metadata (4.7 kB)\n",
      "Using cached pip-25.2-py3-none-any.whl (1.8 MB)\n",
      "Installing collected packages: pip\n",
      "  Attempting uninstall: pip\n",
      "    Found existing installation: pip 25.1.1\n",
      "    Uninstalling pip-25.1.1:\n",
      "      Successfully uninstalled pip-25.1.1\n",
      "Successfully installed pip-25.2\n",
      "Note: you may need to restart the kernel to use updated packages.\n"
     ]
    }
   ],
   "source": [
    "pip install --upgrade pip"
   ]
  },
  {
   "cell_type": "markdown",
   "id": "6a4e36ff",
   "metadata": {},
   "source": [
    "## Importing Numpy"
   ]
  },
  {
   "cell_type": "code",
   "execution_count": 1,
   "id": "cda6b1be",
   "metadata": {},
   "outputs": [],
   "source": [
    "import numpy as np"
   ]
  },
  {
   "cell_type": "markdown",
   "id": "8fe6716e",
   "metadata": {},
   "source": [
    "## Creating Numpy Arrays"
   ]
  },
  {
   "cell_type": "code",
   "execution_count": 2,
   "id": "a005ebf6",
   "metadata": {},
   "outputs": [
    {
     "name": "stdout",
     "output_type": "stream",
     "text": [
      "[1 2 3 4 5]\n"
     ]
    }
   ],
   "source": [
    "arr = np.array([1,2,3,4,5])\n",
    "print(arr)"
   ]
  },
  {
   "cell_type": "markdown",
   "id": "042baf3b",
   "metadata": {},
   "source": [
    "## Types of Arrays"
   ]
  },
  {
   "cell_type": "markdown",
   "id": "422ea67b",
   "metadata": {},
   "source": [
    "**One-Dimensional (1D) Array**"
   ]
  },
  {
   "cell_type": "code",
   "execution_count": 4,
   "id": "7a978759",
   "metadata": {},
   "outputs": [
    {
     "name": "stdout",
     "output_type": "stream",
     "text": [
      "[10 20 30 40]\n"
     ]
    }
   ],
   "source": [
    "arr1D = np.array([10, 20, 30, 40]) \n",
    "print(arr1D)"
   ]
  },
  {
   "cell_type": "markdown",
   "id": "5c36573e",
   "metadata": {},
   "source": [
    "**Two-Dimensional (2D) Array (Matrix)**"
   ]
  },
  {
   "cell_type": "code",
   "execution_count": 5,
   "id": "396b00b4",
   "metadata": {},
   "outputs": [
    {
     "name": "stdout",
     "output_type": "stream",
     "text": [
      "[[1 2 3]\n",
      " [4 5 6]]\n"
     ]
    }
   ],
   "source": [
    "arr2D = np.array([[1, 2, 3], [4, 5, 6]])\n",
    "print(arr2D)"
   ]
  },
  {
   "cell_type": "markdown",
   "id": "36ebc88b",
   "metadata": {},
   "source": [
    "**Three-Dimensional (3D) Array (Tensor)**"
   ]
  },
  {
   "cell_type": "code",
   "execution_count": 6,
   "id": "bbb2a35e",
   "metadata": {},
   "outputs": [
    {
     "name": "stdout",
     "output_type": "stream",
     "text": [
      "[[[1 2]\n",
      "  [3 4]]\n",
      "\n",
      " [[5 6]\n",
      "  [7 8]]]\n"
     ]
    }
   ],
   "source": [
    "arr3D = np.array([[[1, 2], [3, 4]], [[5, 6], [7, 8]]]) \n",
    "print(arr3D)"
   ]
  },
  {
   "cell_type": "markdown",
   "id": "c824f507",
   "metadata": {},
   "source": [
    "## Checking Numpy Version"
   ]
  },
  {
   "cell_type": "code",
   "execution_count": 7,
   "id": "3b51a378",
   "metadata": {},
   "outputs": [
    {
     "name": "stdout",
     "output_type": "stream",
     "text": [
      "2.3.2\n"
     ]
    }
   ],
   "source": [
    "print(np.__version__)"
   ]
  },
  {
   "cell_type": "markdown",
   "id": "7f4ae7cc",
   "metadata": {},
   "source": [
    "## Comparing Execution Time"
   ]
  },
  {
   "cell_type": "code",
   "execution_count": 3,
   "id": "3ad146da",
   "metadata": {},
   "outputs": [
    {
     "name": "stdout",
     "output_type": "stream",
     "text": [
      "Python List Time: 0.04584479331970215\n",
      "NumPy Array Time: 0.0017659664154052734\n"
     ]
    }
   ],
   "source": [
    "import time \n",
    "# Using Python List \n",
    "lst = list(range(1000000)) \n",
    "start = time.time() \n",
    "lst = [x*2 for x in lst] \n",
    "end = time.time() \n",
    "print(\"Python List Time:\", end - start) \n",
    "# Using NumPy Array \n",
    "arr = np.arange(1000000) \n",
    "start = time.time() \n",
    "arr = arr * 2 \n",
    "end = time.time() \n",
    "print(\"NumPy Array Time:\", end - start)"
   ]
  },
  {
   "cell_type": "markdown",
   "id": "1dba30b7",
   "metadata": {},
   "source": [
    "## Basic Array Attributes"
   ]
  },
  {
   "cell_type": "code",
   "execution_count": 8,
   "id": "8583565f",
   "metadata": {},
   "outputs": [
    {
     "name": "stdout",
     "output_type": "stream",
     "text": [
      "2\n",
      "(2, 3)\n",
      "6\n",
      "int64\n",
      "8\n"
     ]
    }
   ],
   "source": [
    "arr = np.array([[1, 2, 3], [4, 5, 6]]) \n",
    "print(arr.ndim) # Output: 2 (2D array) \n",
    "print(arr.shape) # Output: (2, 3) → 2 rows, 3 columns \n",
    "print(arr.size) # Output: 6 (total elements) \n",
    "print(arr.dtype) # Output: int64 (data type) \n",
    "print(arr.itemsize) # Output: 4 (bytes per element)"
   ]
  },
  {
   "cell_type": "markdown",
   "id": "f8e5ec8c",
   "metadata": {},
   "source": [
    "## Indexing"
   ]
  },
  {
   "cell_type": "code",
   "execution_count": 9,
   "id": "b4da056c",
   "metadata": {},
   "outputs": [
    {
     "name": "stdout",
     "output_type": "stream",
     "text": [
      "10\n",
      "30\n",
      "50\n"
     ]
    }
   ],
   "source": [
    "arr = np.array([10, 20, 30, 40, 50]) \n",
    "print(arr[0]) # Output: 10 \n",
    "print(arr[2]) # Output: 30 \n",
    "print(arr[-1]) # Output: 50 (Last element)"
   ]
  },
  {
   "cell_type": "markdown",
   "id": "e1c98d4f",
   "metadata": {},
   "source": [
    "## Slicing"
   ]
  },
  {
   "cell_type": "code",
   "execution_count": 11,
   "id": "13aa589b",
   "metadata": {},
   "outputs": [
    {
     "name": "stdout",
     "output_type": "stream",
     "text": [
      "[20 30 40 50]\n",
      "[10 20 30 40]\n",
      "[30 40 50 60 70]\n",
      "[10 30 50 70]\n",
      "[70 60 50 40 30 20 10]\n"
     ]
    }
   ],
   "source": [
    "arr = np.array([10, 20, 30, 40, 50, 60, 70]) \n",
    "print(arr[1:5]) # Output: [20 30 40 50]\n",
    "print(arr[:4]) # Output: [10 20 30 40] (First 4 elements) \n",
    "print(arr[2:]) # Output: [30 40 50 60 70] (From index 2 to end) \n",
    "print(arr[::2]) # Output: [10 30 50 70] (Every 2nd element) \n",
    "print(arr[::-1]) # Output: [70 60 50 40 30 20 10] (Reversed)"
   ]
  },
  {
   "cell_type": "code",
   "execution_count": 12,
   "id": "cf75652e",
   "metadata": {},
   "outputs": [
    {
     "name": "stdout",
     "output_type": "stream",
     "text": [
      "Collecting nbconvert\n",
      "  Downloading nbconvert-7.16.6-py3-none-any.whl.metadata (8.5 kB)\n",
      "Collecting beautifulsoup4 (from nbconvert)\n",
      "  Downloading beautifulsoup4-4.13.5-py3-none-any.whl.metadata (3.8 kB)\n",
      "Collecting bleach!=5.0.0 (from bleach[css]!=5.0.0->nbconvert)\n",
      "  Downloading bleach-6.2.0-py3-none-any.whl.metadata (30 kB)\n",
      "Collecting defusedxml (from nbconvert)\n",
      "  Downloading defusedxml-0.7.1-py2.py3-none-any.whl.metadata (32 kB)\n",
      "Collecting jinja2>=3.0 (from nbconvert)\n",
      "  Downloading jinja2-3.1.6-py3-none-any.whl.metadata (2.9 kB)\n",
      "Requirement already satisfied: jupyter-core>=4.7 in c:\\users\\user\\appdata\\roaming\\python\\python313\\site-packages (from nbconvert) (5.8.1)\n",
      "Collecting jupyterlab-pygments (from nbconvert)\n",
      "  Downloading jupyterlab_pygments-0.3.0-py3-none-any.whl.metadata (4.4 kB)\n",
      "Collecting markupsafe>=2.0 (from nbconvert)\n",
      "  Downloading MarkupSafe-3.0.2-cp313-cp313-win_amd64.whl.metadata (4.1 kB)\n",
      "Collecting mistune<4,>=2.0.3 (from nbconvert)\n",
      "  Downloading mistune-3.1.3-py3-none-any.whl.metadata (1.8 kB)\n",
      "Collecting nbclient>=0.5.0 (from nbconvert)\n",
      "  Downloading nbclient-0.10.2-py3-none-any.whl.metadata (8.3 kB)\n",
      "Collecting nbformat>=5.7 (from nbconvert)\n",
      "  Downloading nbformat-5.10.4-py3-none-any.whl.metadata (3.6 kB)\n",
      "Requirement already satisfied: packaging in c:\\users\\user\\appdata\\roaming\\python\\python313\\site-packages (from nbconvert) (25.0)\n",
      "Collecting pandocfilters>=1.4.1 (from nbconvert)\n",
      "  Downloading pandocfilters-1.5.1-py2.py3-none-any.whl.metadata (9.0 kB)\n",
      "Requirement already satisfied: pygments>=2.4.1 in c:\\users\\user\\appdata\\roaming\\python\\python313\\site-packages (from nbconvert) (2.19.2)\n",
      "Requirement already satisfied: traitlets>=5.1 in c:\\users\\user\\appdata\\roaming\\python\\python313\\site-packages (from nbconvert) (5.14.3)\n",
      "Collecting webencodings (from bleach!=5.0.0->bleach[css]!=5.0.0->nbconvert)\n",
      "  Downloading webencodings-0.5.1-py2.py3-none-any.whl.metadata (2.1 kB)\n",
      "Collecting tinycss2<1.5,>=1.1.0 (from bleach[css]!=5.0.0->nbconvert)\n",
      "  Downloading tinycss2-1.4.0-py3-none-any.whl.metadata (3.0 kB)\n",
      "Requirement already satisfied: platformdirs>=2.5 in c:\\users\\user\\appdata\\roaming\\python\\python313\\site-packages (from jupyter-core>=4.7->nbconvert) (4.4.0)\n",
      "Requirement already satisfied: pywin32>=300 in c:\\users\\user\\appdata\\roaming\\python\\python313\\site-packages (from jupyter-core>=4.7->nbconvert) (311)\n",
      "Requirement already satisfied: jupyter-client>=6.1.12 in c:\\users\\user\\appdata\\roaming\\python\\python313\\site-packages (from nbclient>=0.5.0->nbconvert) (8.6.3)\n",
      "Requirement already satisfied: python-dateutil>=2.8.2 in c:\\users\\user\\appdata\\roaming\\python\\python313\\site-packages (from jupyter-client>=6.1.12->nbclient>=0.5.0->nbconvert) (2.9.0.post0)\n",
      "Requirement already satisfied: pyzmq>=23.0 in c:\\users\\user\\appdata\\roaming\\python\\python313\\site-packages (from jupyter-client>=6.1.12->nbclient>=0.5.0->nbconvert) (27.0.2)\n",
      "Requirement already satisfied: tornado>=6.2 in c:\\users\\user\\appdata\\roaming\\python\\python313\\site-packages (from jupyter-client>=6.1.12->nbclient>=0.5.0->nbconvert) (6.5.2)\n",
      "Collecting fastjsonschema>=2.15 (from nbformat>=5.7->nbconvert)\n",
      "  Downloading fastjsonschema-2.21.2-py3-none-any.whl.metadata (2.3 kB)\n",
      "Collecting jsonschema>=2.6 (from nbformat>=5.7->nbconvert)\n",
      "  Downloading jsonschema-4.25.1-py3-none-any.whl.metadata (7.6 kB)\n",
      "Collecting attrs>=22.2.0 (from jsonschema>=2.6->nbformat>=5.7->nbconvert)\n",
      "  Downloading attrs-25.3.0-py3-none-any.whl.metadata (10 kB)\n",
      "Collecting jsonschema-specifications>=2023.03.6 (from jsonschema>=2.6->nbformat>=5.7->nbconvert)\n",
      "  Downloading jsonschema_specifications-2025.4.1-py3-none-any.whl.metadata (2.9 kB)\n",
      "Collecting referencing>=0.28.4 (from jsonschema>=2.6->nbformat>=5.7->nbconvert)\n",
      "  Downloading referencing-0.36.2-py3-none-any.whl.metadata (2.8 kB)\n",
      "Collecting rpds-py>=0.7.1 (from jsonschema>=2.6->nbformat>=5.7->nbconvert)\n",
      "  Downloading rpds_py-0.27.1-cp313-cp313-win_amd64.whl.metadata (4.3 kB)\n",
      "Requirement already satisfied: six>=1.5 in c:\\users\\user\\appdata\\roaming\\python\\python313\\site-packages (from python-dateutil>=2.8.2->jupyter-client>=6.1.12->nbclient>=0.5.0->nbconvert) (1.17.0)\n",
      "Collecting soupsieve>1.2 (from beautifulsoup4->nbconvert)\n",
      "  Downloading soupsieve-2.8-py3-none-any.whl.metadata (4.6 kB)\n",
      "Collecting typing-extensions>=4.0.0 (from beautifulsoup4->nbconvert)\n",
      "  Downloading typing_extensions-4.15.0-py3-none-any.whl.metadata (3.3 kB)\n",
      "Downloading nbconvert-7.16.6-py3-none-any.whl (258 kB)\n",
      "Downloading mistune-3.1.3-py3-none-any.whl (53 kB)\n",
      "Downloading bleach-6.2.0-py3-none-any.whl (163 kB)\n",
      "Downloading tinycss2-1.4.0-py3-none-any.whl (26 kB)\n",
      "Downloading jinja2-3.1.6-py3-none-any.whl (134 kB)\n",
      "Downloading MarkupSafe-3.0.2-cp313-cp313-win_amd64.whl (15 kB)\n",
      "Downloading nbclient-0.10.2-py3-none-any.whl (25 kB)\n",
      "Downloading nbformat-5.10.4-py3-none-any.whl (78 kB)\n",
      "Downloading fastjsonschema-2.21.2-py3-none-any.whl (24 kB)\n",
      "Downloading jsonschema-4.25.1-py3-none-any.whl (90 kB)\n",
      "Downloading attrs-25.3.0-py3-none-any.whl (63 kB)\n",
      "Downloading jsonschema_specifications-2025.4.1-py3-none-any.whl (18 kB)\n",
      "Downloading pandocfilters-1.5.1-py2.py3-none-any.whl (8.7 kB)\n",
      "Downloading referencing-0.36.2-py3-none-any.whl (26 kB)\n",
      "Downloading rpds_py-0.27.1-cp313-cp313-win_amd64.whl (232 kB)\n",
      "Downloading webencodings-0.5.1-py2.py3-none-any.whl (11 kB)\n",
      "Downloading beautifulsoup4-4.13.5-py3-none-any.whl (105 kB)\n",
      "Downloading soupsieve-2.8-py3-none-any.whl (36 kB)\n",
      "Downloading typing_extensions-4.15.0-py3-none-any.whl (44 kB)\n",
      "Downloading defusedxml-0.7.1-py2.py3-none-any.whl (25 kB)\n",
      "Downloading jupyterlab_pygments-0.3.0-py3-none-any.whl (15 kB)\n",
      "Installing collected packages: webencodings, fastjsonschema, typing-extensions, tinycss2, soupsieve, rpds-py, pandocfilters, mistune, markupsafe, jupyterlab-pygments, defusedxml, bleach, attrs, referencing, jinja2, beautifulsoup4, jsonschema-specifications, jsonschema, nbformat, nbclient, nbconvert\n",
      "\n",
      "   ------------- --------------------------  7/21 [mistune]\n",
      "   -------------------- ------------------- 11/21 [bleach]\n",
      "   -------------------------- ------------- 14/21 [jinja2]\n",
      "   ---------------------------- ----------- 15/21 [beautifulsoup4]\n",
      "   ---------------------------------- ----- 18/21 [nbformat]\n",
      "   ---------------------------------------- 21/21 [nbconvert]\n",
      "\n",
      "Successfully installed attrs-25.3.0 beautifulsoup4-4.13.5 bleach-6.2.0 defusedxml-0.7.1 fastjsonschema-2.21.2 jinja2-3.1.6 jsonschema-4.25.1 jsonschema-specifications-2025.4.1 jupyterlab-pygments-0.3.0 markupsafe-3.0.2 mistune-3.1.3 nbclient-0.10.2 nbconvert-7.16.6 nbformat-5.10.4 pandocfilters-1.5.1 referencing-0.36.2 rpds-py-0.27.1 soupsieve-2.8 tinycss2-1.4.0 typing-extensions-4.15.0 webencodings-0.5.1\n",
      "Note: you may need to restart the kernel to use updated packages.\n"
     ]
    }
   ],
   "source": [
    "pip install nbconvert\n"
   ]
  }
 ],
 "metadata": {
  "kernelspec": {
   "display_name": "Python 3",
   "language": "python",
   "name": "python3"
  },
  "language_info": {
   "codemirror_mode": {
    "name": "ipython",
    "version": 3
   },
   "file_extension": ".py",
   "mimetype": "text/x-python",
   "name": "python",
   "nbconvert_exporter": "python",
   "pygments_lexer": "ipython3",
   "version": "3.13.5"
  }
 },
 "nbformat": 4,
 "nbformat_minor": 5
}
